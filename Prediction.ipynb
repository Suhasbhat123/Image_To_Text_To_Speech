{
 "cells": [
  {
   "cell_type": "code",
   "execution_count": 1,
   "id": "ecafa3ac",
   "metadata": {},
   "outputs": [
    {
     "name": "stdout",
     "output_type": "stream",
     "text": [
      "WARNING:tensorflow:From C:\\Users\\ratha\\AppData\\Roaming\\Python\\Python39\\site-packages\\keras\\src\\losses.py:2976: The name tf.losses.sparse_softmax_cross_entropy is deprecated. Please use tf.compat.v1.losses.sparse_softmax_cross_entropy instead.\n",
      "\n"
     ]
    }
   ],
   "source": [
    "from keras.preprocessing.sequence import pad_sequences\n",
    "import os\n",
    "import fnmatch\n",
    "import cv2\n",
    "import numpy as np\n",
    "import string\n",
    "import time\n",
    "import sys"
   ]
  },
  {
   "cell_type": "code",
   "execution_count": 1,
   "id": "c197e1dd-51eb-46bc-9b1b-379127d00172",
   "metadata": {},
   "outputs": [
    {
     "ename": "NameError",
     "evalue": "name 'python' is not defined",
     "output_type": "error",
     "traceback": [
      "\u001b[1;31m---------------------------------------------------------------------------\u001b[0m",
      "\u001b[1;31mNameError\u001b[0m                                 Traceback (most recent call last)",
      "Cell \u001b[1;32mIn[1], line 1\u001b[0m\n\u001b[1;32m----> 1\u001b[0m \u001b[43mpython\u001b[49m \u001b[38;5;241m-\u001b[39m\u001b[38;5;241m-\u001b[39mversion\n",
      "\u001b[1;31mNameError\u001b[0m: name 'python' is not defined"
     ]
    }
   ],
   "source": [
    "python --version"
   ]
  },
  {
   "cell_type": "code",
   "execution_count": 3,
   "id": "1fff1d7f-a606-4d69-8dbf-af2bfee3685a",
   "metadata": {},
   "outputs": [
    {
     "name": "stdout",
     "output_type": "stream",
     "text": [
      "3.12.7 | packaged by Anaconda, Inc. | (main, Oct  4 2024, 13:17:27) [MSC v.1929 64 bit (AMD64)]\n"
     ]
    }
   ],
   "source": [
    "import sys\n",
    "print(sys.version)\n"
   ]
  },
  {
   "cell_type": "code",
   "execution_count": 5,
   "id": "41aaf31a-9868-48c9-a7ce-e15fbfe728f5",
   "metadata": {},
   "outputs": [
    {
     "name": "stdout",
     "output_type": "stream",
     "text": [
      "Note: you may need to restart the kernel to use updated packages.\n"
     ]
    },
    {
     "name": "stderr",
     "output_type": "stream",
     "text": [
      "ERROR: Could not find a version that satisfies the requirement tensorflow==2.15.0 (from versions: 2.16.0rc0, 2.16.1, 2.16.2, 2.17.0rc0, 2.17.0rc1, 2.17.0, 2.17.1, 2.18.0rc0, 2.18.0rc1, 2.18.0rc2, 2.18.0)\n",
      "ERROR: No matching distribution found for tensorflow==2.15.0\n"
     ]
    }
   ],
   "source": [
    "pip install tensorflow==2.15.0\n"
   ]
  },
  {
   "cell_type": "code",
   "execution_count": 2,
   "id": "ccdbde7d",
   "metadata": {},
   "outputs": [],
   "source": [
    "from keras.layers import Dense, LSTM, Reshape, BatchNormalization, Input, Conv2D, MaxPool2D, Lambda, Bidirectional,Dropout\n",
    "from keras.models import Model\n",
    "from keras.activations import relu, sigmoid, softmax\n",
    "import keras.backend as K\n",
    "from keras.utils import to_categorical\n",
    "from keras.callbacks import ModelCheckpoint\n",
    "import keras\n",
    "import numpy as np\n",
    "import tensorflow as tf"
   ]
  },
  {
   "cell_type": "code",
   "execution_count": 3,
   "id": "b0f0b98a",
   "metadata": {},
   "outputs": [],
   "source": [
    "\n",
    "import matplotlib.pyplot as plt\n",
    "from keras.layers import Dense, LSTM, Reshape, BatchNormalization, Input, Conv2D, MaxPool2D, Lambda, Bidirectional,Dropout\n",
    "from keras.models import Model\n",
    "from keras.activations import relu, sigmoid, softmax\n",
    "import keras.backend as K\n",
    "from keras.utils import to_categorical\n",
    "from keras.callbacks import ModelCheckpoint\n",
    "import keras"
   ]
  },
  {
   "cell_type": "code",
   "execution_count": 4,
   "id": "fd3a132f",
   "metadata": {},
   "outputs": [],
   "source": [
    "train_label_length = np.load('./wgt/train_label_length.npy')\n",
    "train_input_length = np.load('./wgt/train_input_length.npy')\n",
    "training_img = np.load('./wgt/training_img.npy')\n",
    "train_padded_txt = np.load('./wgt/train_padded_txt.npy')\n",
    "max_label_len = np.load('./wgt/max_label_len.npy')"
   ]
  },
  {
   "cell_type": "code",
   "execution_count": 5,
   "id": "13dd853e",
   "metadata": {},
   "outputs": [
    {
     "name": "stdout",
     "output_type": "stream",
     "text": [
      "(390000,)\n",
      "(390000,)\n",
      "(390000, 32, 128, 1)\n",
      "(390000, 23)\n"
     ]
    }
   ],
   "source": [
    "print(train_label_length.shape)\n",
    "print(train_input_length.shape)\n",
    "print(training_img.shape)\n",
    "print(train_padded_txt.shape)"
   ]
  },
  {
   "cell_type": "code",
   "execution_count": 12,
   "id": "67a5a71a",
   "metadata": {},
   "outputs": [
    {
     "name": "stdout",
     "output_type": "stream",
     "text": [
      "Model: \"model_1\"\n",
      "_________________________________________________________________\n",
      " Layer (type)                Output Shape              Param #   \n",
      "=================================================================\n",
      " input_2 (InputLayer)        [(None, 32, 128, 1)]      0         \n",
      "                                                                 \n",
      " lambda_2 (Lambda)           (None, 32, 128, 1)        0         \n",
      "                                                                 \n",
      " conv2d_10 (Conv2D)          (None, 32, 128, 16)       160       \n",
      "                                                                 \n",
      " dropout_3 (Dropout)         (None, 32, 128, 16)       0         \n",
      "                                                                 \n",
      " conv2d_11 (Conv2D)          (None, 32, 128, 32)       4640      \n",
      "                                                                 \n",
      " max_pooling2d_4 (MaxPoolin  (None, 16, 64, 32)        0         \n",
      " g2D)                                                            \n",
      "                                                                 \n",
      " conv2d_12 (Conv2D)          (None, 16, 64, 32)        9248      \n",
      "                                                                 \n",
      " batch_normalization_4 (Bat  (None, 16, 64, 32)        128       \n",
      " chNormalization)                                                \n",
      "                                                                 \n",
      " dropout_4 (Dropout)         (None, 16, 64, 32)        0         \n",
      "                                                                 \n",
      " conv2d_13 (Conv2D)          (None, 16, 64, 32)        9248      \n",
      "                                                                 \n",
      " max_pooling2d_5 (MaxPoolin  (None, 8, 32, 32)         0         \n",
      " g2D)                                                            \n",
      "                                                                 \n",
      " conv2d_14 (Conv2D)          (None, 8, 32, 32)         9248      \n",
      "                                                                 \n",
      " batch_normalization_5 (Bat  (None, 8, 32, 32)         128       \n",
      " chNormalization)                                                \n",
      "                                                                 \n",
      " dropout_5 (Dropout)         (None, 8, 32, 32)         0         \n",
      "                                                                 \n",
      " conv2d_15 (Conv2D)          (None, 8, 32, 32)         9248      \n",
      "                                                                 \n",
      " conv2d_16 (Conv2D)          (None, 8, 32, 64)         18496     \n",
      "                                                                 \n",
      " max_pooling2d_6 (MaxPoolin  (None, 4, 32, 64)         0         \n",
      " g2D)                                                            \n",
      "                                                                 \n",
      " conv2d_17 (Conv2D)          (None, 4, 32, 256)        147712    \n",
      "                                                                 \n",
      " batch_normalization_6 (Bat  (None, 4, 32, 256)        1024      \n",
      " chNormalization)                                                \n",
      "                                                                 \n",
      " conv2d_18 (Conv2D)          (None, 4, 32, 256)        590080    \n",
      "                                                                 \n",
      " batch_normalization_7 (Bat  (None, 4, 32, 256)        1024      \n",
      " chNormalization)                                                \n",
      "                                                                 \n",
      " max_pooling2d_7 (MaxPoolin  (None, 2, 32, 256)        0         \n",
      " g2D)                                                            \n",
      "                                                                 \n",
      " conv2d_19 (Conv2D)          (None, 1, 31, 512)        524800    \n",
      "                                                                 \n",
      " lambda_3 (Lambda)           (None, 31, 512)           0         \n",
      "                                                                 \n",
      " bidirectional_2 (Bidirecti  (None, 31, 256)           656384    \n",
      " onal)                                                           \n",
      "                                                                 \n",
      " bidirectional_3 (Bidirecti  (None, 31, 256)           394240    \n",
      " onal)                                                           \n",
      "                                                                 \n",
      " dense_1 (Dense)             (None, 31, 63)            16191     \n",
      "                                                                 \n",
      "=================================================================\n",
      "Total params: 2391999 (9.12 MB)\n",
      "Trainable params: 2390847 (9.12 MB)\n",
      "Non-trainable params: 1152 (4.50 KB)\n",
      "_________________________________________________________________\n"
     ]
    }
   ],
   "source": [
    "inputs = Input(shape=(32,128,1))\n",
    "s = tf.keras.layers.Lambda(lambda x: x / 255)(inputs)\n",
    "\n",
    "# convolution layer with kernel size (3,3)\n",
    "conv_1 = Conv2D(16, (3,3), activation = 'relu', kernel_initializer='he_normal' ,padding='same')(s)\n",
    "conv_1 = Dropout(0.25)(conv_1)\n",
    "conv_1 = Conv2D(32, (3,3), activation = 'relu', kernel_initializer='he_normal' ,padding='same')(conv_1)\n",
    "# poolig layer with kernel size (2,2)\n",
    "pool_1 = MaxPool2D(pool_size=(2, 2), strides=2)(conv_1)\n",
    " \n",
    "conv_2 = Conv2D(32, (3,3), activation = 'relu',kernel_initializer='he_normal' , padding='same')(pool_1)\n",
    "conv_2= BatchNormalization(axis=-1)(conv_2)\n",
    "conv_2 = Dropout(0.25)(conv_2)\n",
    "conv_2 = Conv2D(32, (3,3), activation = 'relu', kernel_initializer='he_normal' ,padding='same')(conv_2)\n",
    "pool_2 = MaxPool2D(pool_size=(2, 2), strides=2)(conv_2)\n",
    " \n",
    "conv_3 = Conv2D(32, (3,3), activation = 'relu', kernel_initializer='he_normal' ,padding='same')(pool_2)\n",
    "conv_3= BatchNormalization(axis=-1)(conv_3)\n",
    "conv_3 = Dropout(0.25)(conv_3)\n",
    "conv_3 = Conv2D(32, (3,3), activation = 'relu', kernel_initializer='he_normal' ,padding='same')(conv_3)\n",
    "conv_4 = Conv2D(64, (3,3), activation = 'relu', kernel_initializer='he_normal' ,padding='same')(conv_3)\n",
    "# poolig layer with kernel size (2,1)\n",
    "pool_4 = MaxPool2D(pool_size=(2, 1))(conv_4)\n",
    " \n",
    "conv_5 = Conv2D(256, (3,3), activation = 'relu',kernel_initializer='he_normal' , padding='same')(pool_4)\n",
    "# Batch normalization layer\n",
    "batch_norm_5 = BatchNormalization()(conv_5)\n",
    " \n",
    "conv_6 = Conv2D(256, (3,3), activation = 'relu',kernel_initializer='he_normal' , padding='same')(batch_norm_5)\n",
    "batch_norm_6 = BatchNormalization()(conv_6)\n",
    "pool_6 = MaxPool2D(pool_size=(2, 1))(batch_norm_6)\n",
    "\n",
    "conv_7 = Conv2D(512, (2,2), activation = 'relu')(pool_6)\n",
    " \n",
    "squeezed = Lambda(lambda x: K.squeeze(x, 1))(conv_7)\n",
    " \n",
    "# bidirectional LSTM layers with units=128\n",
    "blstm_1 = Bidirectional(LSTM(128, return_sequences=True, dropout = 0.2))(squeezed)\n",
    "blstm_2 = Bidirectional(LSTM(128, return_sequences=True, dropout = 0.2))(blstm_1)\n",
    " \n",
    "outputs = Dense(62+1, activation = 'softmax')(blstm_2)\n",
    "\n",
    "# model to be used at test time\n",
    "act_model = Model(inputs, outputs)\n",
    "\n",
    "act_model.summary()"
   ]
  },
  {
   "cell_type": "code",
   "execution_count": 13,
   "id": "491b3eb6",
   "metadata": {},
   "outputs": [],
   "source": [
    "char_list = string.ascii_letters+string.digits"
   ]
  },
  {
   "cell_type": "code",
   "execution_count": 16,
   "id": "f046eed0",
   "metadata": {},
   "outputs": [],
   "source": [
    "def display(x):\n",
    "\n",
    "  # load the saved best model weights\n",
    "  act_model.load_weights('./models/best_model.hdf5')\n",
    "  x = cv2.resize(x, (128, 32))\n",
    "  print(x)\n",
    "  prediction = act_model.predict(x.reshape(1,32,128,1))\n",
    "\n",
    "  # use CTC decoder\n",
    "  out = K.get_value(K.ctc_decode(prediction, input_length=np.ones(prediction.shape[0])*prediction.shape[1],\n",
    "                         greedy=True)[0][0])\n",
    "  x = x.reshape(32,128)\n",
    "  plt.title('Input Image')\n",
    "  plt.imshow(x)\n",
    "  plt.axis('off')\n",
    "  plt.show()\n",
    "\n",
    "  # see the results\n",
    "  for x in out:\n",
    "      print(\"predicted text = \", end = '')\n",
    "      for p in x:  \n",
    "          if int(p) != -1:\n",
    "              print(char_list[int(p)], end = '')       \n",
    "      print('\\n') "
   ]
  },
  {
   "cell_type": "code",
   "execution_count": 17,
   "id": "cec69ee0",
   "metadata": {},
   "outputs": [
    {
     "name": "stdout",
     "output_type": "stream",
     "text": [
      "[[149 149 149 ... 255 255 255]\n",
      " [149 149 149 ... 255 255 255]\n",
      " [149 149 149 ... 255 255 255]\n",
      " ...\n",
      " [154 151 150 ... 255 255 255]\n",
      " [146 140 144 ... 255 255 255]\n",
      " [255 255 255 ... 255 255 255]]\n",
      "1/1 [==============================] - 2s 2s/step\n"
     ]
    },
    {
     "data": {
      "image/png": "[encoded data removed]",
      "text/plain": [
       "<Figure size 640x480 with 1 Axes>"
      ]
     },
     "metadata": {},
     "output_type": "display_data"
    },
    {
     "name": "stdout",
     "output_type": "stream",
     "text": [
      "predicted text = Amorously\n",
      "\n",
      "[[ 25  25  25 ... 255 255 255]\n",
      " [ 25  25  25 ... 255 255 255]\n",
      " [ 25  25  25 ... 255 255 255]\n",
      " ...\n",
      " [ 25  26  28 ... 255 255 255]\n",
      " [ 23  26  24 ... 255 255 255]\n",
      " [255 255 255 ... 255 255 255]]\n",
      "1/1 [==============================] - 0s 33ms/step\n"
     ]
    },
    {
     "data": {
      "image/png": "[encoded data removed]",
      "text/plain": [
       "<Figure size 640x480 with 1 Axes>"
      ]
     },
     "metadata": {},
     "output_type": "display_data"
    },
    {
     "name": "stdout",
     "output_type": "stream",
     "text": [
      "predicted text = SPLINTING\n",
      "\n",
      "[[223 223 224 ... 255 255 255]\n",
      " [225 223 222 ... 255 255 255]\n",
      " [222 221 222 ... 255 255 255]\n",
      " ...\n",
      " [224 225 225 ... 255 255 255]\n",
      " [224 224 224 ... 255 255 255]\n",
      " [224 224 223 ... 255 255 255]]\n",
      "1/1 [==============================] - 0s 31ms/step\n"
     ]
    },
    {
     "data": {
      "image/png": "[encoded data removed]",
      "text/plain": [
       "<Figure size 640x480 with 1 Axes>"
      ]
     },
     "metadata": {},
     "output_type": "display_data"
    },
    {
     "name": "stdout",
     "output_type": "stream",
     "text": [
      "predicted text = humorless\n",
      "\n",
      "[[133 133 133 ... 255 255 255]\n",
      " [133 133 133 ... 255 255 255]\n",
      " [133 133 133 ... 255 255 255]\n",
      " ...\n",
      " [136 136 127 ... 255 255 255]\n",
      " [128 126 138 ... 255 255 255]\n",
      " [255 255 255 ... 255 255 255]]\n",
      "1/1 [==============================] - 0s 32ms/step\n"
     ]
    },
    {
     "data": {
      "image/png": "[encoded data removed]",
      "text/plain": [
       "<Figure size 640x480 with 1 Axes>"
      ]
     },
     "metadata": {},
     "output_type": "display_data"
    },
    {
     "name": "stdout",
     "output_type": "stream",
     "text": [
      "predicted text = SHIPBUILDING\n",
      "\n",
      "[[178 178 178 ... 255 255 255]\n",
      " [178 178 178 ... 255 255 255]\n",
      " [178 178 178 ... 255 255 255]\n",
      " ...\n",
      " [181 177 178 ... 255 255 255]\n",
      " [174 175 177 ... 255 255 255]\n",
      " [255 255 255 ... 255 255 255]]\n",
      "1/1 [==============================] - 0s 35ms/step\n"
     ]
    },
    {
     "data": {
      "image/png": "[encoded data removed]",
      "text/plain": [
       "<Figure size 640x480 with 1 Axes>"
      ]
     },
     "metadata": {},
     "output_type": "display_data"
    },
    {
     "name": "stdout",
     "output_type": "stream",
     "text": [
      "predicted text = HASTILY\n",
      "\n",
      "[[112 106 111 ... 255 255 255]\n",
      " [117 112 111 ... 255 255 255]\n",
      " [112 112 118 ... 255 255 255]\n",
      " ...\n",
      " [104 104 105 ... 255 255 255]\n",
      " [103 103 103 ... 255 255 255]\n",
      " [255 255 255 ... 255 255 255]]\n",
      "1/1 [==============================] - 0s 22ms/step\n"
     ]
    },
    {
     "data": {
      "image/png": "[encoded data removed]",
      "text/plain": [
       "<Figure size 640x480 with 1 Axes>"
      ]
     },
     "metadata": {},
     "output_type": "display_data"
    },
    {
     "name": "stdout",
     "output_type": "stream",
     "text": [
      "predicted text = Retrograding\n",
      "\n",
      "[[140 135 131 ... 255 255 255]\n",
      " [139 136 134 ... 255 255 255]\n",
      " [137 137 137 ... 255 255 255]\n",
      " ...\n",
      " [137 137 138 ... 255 255 255]\n",
      " [137 137 137 ... 255 255 255]\n",
      " [136 137 137 ... 255 255 255]]\n",
      "1/1 [==============================] - 0s 36ms/step\n"
     ]
    },
    {
     "data": {
      "image/png": "[encoded data removed]",
      "text/plain": [
       "<Figure size 640x480 with 1 Axes>"
      ]
     },
     "metadata": {},
     "output_type": "display_data"
    },
    {
     "name": "stdout",
     "output_type": "stream",
     "text": [
      "predicted text = interpolated\n",
      "\n",
      "[[ 27  27  22 ... 255 255 255]\n",
      " [ 27  24  27 ... 255 255 255]\n",
      " [ 27  24  25 ... 255 255 255]\n",
      " ...\n",
      " [ 25  24  22 ... 255 255 255]\n",
      " [ 22  27  26 ... 255 255 255]\n",
      " [255 255 255 ... 255 255 255]]\n",
      "1/1 [==============================] - 0s 48ms/step\n"
     ]
    },
    {
     "data": {
      "image/png": "[encoded data removed]",
      "text/plain": [
       "<Figure size 640x480 with 1 Axes>"
      ]
     },
     "metadata": {},
     "output_type": "display_data"
    },
    {
     "name": "stdout",
     "output_type": "stream",
     "text": [
      "predicted text = lurker\n",
      "\n"
     ]
    }
   ],
   "source": [
    "for _ in range(8):\n",
    "  i = np.random.randint(300000)\n",
    "#   print(training_img[i])\n",
    "  display(training_img[i])"
   ]
  },
  {
   "cell_type": "code",
   "execution_count": null,
   "id": "9201d1bb",
   "metadata": {},
   "outputs": [],
   "source": []
  },
  {
   "cell_type": "code",
   "execution_count": null,
   "id": "8bd96b8f",
   "metadata": {},
   "outputs": [],
   "source": []
  },
  {
   "cell_type": "code",
   "execution_count": null,
   "id": "e7d305d5",
   "metadata": {},
   "outputs": [],
   "source": []
  },
  {
   "cell_type": "code",
   "execution_count": null,
   "id": "881b10c0",
   "metadata": {},
   "outputs": [],
   "source": []
  },
  {
   "cell_type": "markdown",
   "id": "00a8465f",
   "metadata": {},
   "source": [
    "<h1>Prediction</h1>"
   ]
  },
  {
   "cell_type": "code",
   "execution_count": 18,
   "id": "68423385",
   "metadata": {},
   "outputs": [],
   "source": [
    "import cv2\n",
    "import pytesseract\n",
    "import numpy as np"
   ]
  },
  {
   "cell_type": "code",
   "execution_count": 12,
   "id": "7bc72391",
   "metadata": {},
   "outputs": [],
   "source": [
    "# it will not predict correct\n",
    "\n",
    "def display(image):\n",
    "    # Convert the image to grayscale\n",
    "    gray_image = cv2.cvtColor(image, cv2.COLOR_BGR2GRAY)\n",
    "    \n",
    "    # Resize the grayscale image\n",
    "    resized_image = cv2.resize(gray_image, (128, 32))\n",
    "    plt.imshow(resized_image)\n",
    "    plt.show()\n",
    "    \n",
    "    # Normalize pixel values\n",
    "    resized_image = resized_image / 255.0\n",
    "    \n",
    "    # Add batch dimension\n",
    "    resized_image = np.expand_dims(resized_image, axis=-1)\n",
    "    \n",
    "    # Load the saved best model weights\n",
    "    act_model.load_weights('./best_model.hdf5')\n",
    "    \n",
    "    # Reshape the image to match the input shape expected by the model\n",
    "    resized_image = np.expand_dims(resized_image, axis=0)\n",
    "    \n",
    "    # Make prediction\n",
    "    prediction = act_model.predict(resized_image)\n",
    "    \n",
    "    # Use CTC decoder\n",
    "    out = K.get_value(K.ctc_decode(prediction, input_length=np.ones(prediction.shape[0])*prediction.shape[1],\n",
    "                                    greedy=True)[0][0])\n",
    "    \n",
    "    # Display the input image\n",
    "#     plt.title('Input Image')\n",
    "#     plt.imshow(gray_image, cmap='gray')\n",
    "#     plt.axis('off')\n",
    "#     plt.show()\n",
    "\n",
    "    # See the results\n",
    "    for x in out:\n",
    "        print(\"Predicted text = \", end='')\n",
    "        for p in x:  \n",
    "            if int(p) != -1:\n",
    "                print(char_list[int(p)], end='')       \n",
    "        print('\\n')\n"
   ]
  },
  {
   "cell_type": "code",
   "execution_count": null,
   "id": "88da4c94",
   "metadata": {},
   "outputs": [],
   "source": []
  },
  {
   "cell_type": "code",
   "execution_count": null,
   "id": "caebf068",
   "metadata": {},
   "outputs": [],
   "source": []
  },
  {
   "cell_type": "markdown",
   "id": "53164fdd",
   "metadata": {},
   "source": [
    "<h1> Prediction Part</h1>"
   ]
  },
  {
   "cell_type": "code",
   "execution_count": 19,
   "id": "33da757a",
   "metadata": {},
   "outputs": [],
   "source": [
    "def displayResults(x):\n",
    "  li = []\n",
    "  # load the saved best model weights\n",
    "  gray_image = cv2.cvtColor(x, cv2.COLOR_BGR2GRAY)\n",
    "    \n",
    "    # Resize the grayscale image\n",
    "  x = cv2.resize(gray_image, (128, 32))\n",
    "  act_model.load_weights('./models/best_model.hdf5')\n",
    "  prediction = act_model.predict(x.reshape(1,32,128,1))\n",
    "\n",
    "  # use CTC decoder\n",
    "  out = K.get_value(K.ctc_decode(prediction, input_length=np.ones(prediction.shape[0])*prediction.shape[1],\n",
    "                         greedy=True)[0][0])\n",
    "  x = x.reshape(32,128)\n",
    "#   plt.title('Input Image')\n",
    "#   plt.imshow(x)\n",
    "#   plt.axis('off')\n",
    "#   plt.show()\n",
    "\n",
    "  # see the results\n",
    "  for x in out:\n",
    "      print(\"predicted text = \", end = '')\n",
    "      for p in x:  \n",
    "          if int(p) != -1:\n",
    "              print(char_list[int(p)], end = '')\n",
    "              li.append(char_list[int(p)])\n",
    "      print('\\n') \n",
    "  return li"
   ]
  },
  {
   "cell_type": "code",
   "execution_count": 20,
   "id": "769826be",
   "metadata": {},
   "outputs": [],
   "source": [
    "def detect_and_crop_text(image_path):\n",
    "    # Load the image\n",
    "    image = cv2.imread(image_path)\n",
    "#     plt.imshow(image)\n",
    "#     plt.show()\n",
    "    gray = cv2.cvtColor(image, cv2.COLOR_BGR2GRAY)\n",
    "#     plt.imshow(gray)\n",
    "    \n",
    "    # Perform text detection using pytesseract\n",
    "    custom_config = r'--oem 3 --psm 6'  # OCR configuration\n",
    "    text_data = pytesseract.image_to_data(gray, output_type=pytesseract.Output.DICT, config=custom_config)\n",
    "\n",
    "    # Crop the regions where text is detected\n",
    "    cropped_images = []\n",
    "    for i, text in enumerate(text_data['text']):\n",
    "        if text.strip():  # Check if the detected text is non-empty\n",
    "#             print(text)\n",
    "            x, y, w, h = text_data['left'][i], text_data['top'][i], text_data['width'][i], text_data['height'][i]\n",
    "            cropped_image = image[y:y+h, x:x+w]\n",
    "#             plt.imshow(cropped_image)\n",
    "#             plt.show()\n",
    "            cropped_images.append(cropped_image)\n",
    "\n",
    "    return cropped_images"
   ]
  },
  {
   "cell_type": "code",
   "execution_count": 21,
   "id": "18d17e93",
   "metadata": {},
   "outputs": [
    {
     "name": "stdout",
     "output_type": "stream",
     "text": [
      "1/1 [==============================] - 0s 31ms/step\n",
      "predicted text = As\n",
      "\n",
      "1/1 [==============================] - 0s 34ms/step\n",
      "predicted text = S\n",
      "\n",
      "1/1 [==============================] - 0s 24ms/step\n",
      "predicted text = software\n",
      "\n",
      "1/1 [==============================] - 0s 36ms/step\n",
      "predicted text = interface\n",
      "\n",
      "1/1 [==============================] - 0s 16ms/step\n",
      "predicted text = for\n",
      "\n",
      "1/1 [==============================] - 0s 59ms/step\n",
      "predicted text = graphics\n",
      "\n",
      "1/1 [==============================] - 0s 31ms/step\n",
      "predicted text = hardware\n",
      "\n",
      "1/1 [==============================] - 0s 30ms/step\n",
      "predicted text = Opengls\n",
      "\n",
      "1/1 [==============================] - 0s 38ms/step\n",
      "predicted text = moain\n",
      "\n",
      "1/1 [==============================] - 0s 35ms/step\n",
      "predicted text = purpose\n",
      "\n",
      "1/1 [==============================] - 0s 34ms/step\n",
      "predicted text = Des\n",
      "\n",
      "1/1 [==============================] - 0s 30ms/step\n",
      "predicted text = i\n",
      "\n",
      "1/1 [==============================] - 0s 42ms/step\n",
      "predicted text = render\n",
      "\n",
      "1/1 [==============================] - 0s 18ms/step\n",
      "predicted text = CMO\n",
      "\n",
      "1/1 [==============================] - 0s 34ms/step\n",
      "predicted text = an\n",
      "\n",
      "1/1 [==============================] - 0s 33ms/step\n",
      "predicted text = Ihreeatlimensiona\n",
      "\n",
      "1/1 [==============================] - 0s 58ms/step\n",
      "predicted text = objects\n",
      "\n",
      "1/1 [==============================] - 0s 30ms/step\n",
      "predicted text = into\n",
      "\n",
      "1/1 [==============================] - 0s 20ms/step\n",
      "predicted text = Cy\n",
      "\n",
      "1/1 [==============================] - 0s 20ms/step\n",
      "predicted text = frame\n",
      "\n",
      "1/1 [==============================] - 0s 34ms/step\n",
      "predicted text = buffer\n",
      "\n",
      "1/1 [==============================] - 0s 49ms/step\n",
      "predicted text = These\n",
      "\n",
      "1/1 [==============================] - 0s 35ms/step\n",
      "predicted text = objects\n",
      "\n",
      "1/1 [==============================] - 0s 46ms/step\n",
      "predicted text = Sr\n",
      "\n",
      "1/1 [==============================] - 0s 28ms/step\n",
      "predicted text = described\n",
      "\n",
      "1/1 [==============================] - 0s 54ms/step\n",
      "predicted text = S\n",
      "\n",
      "1/1 [==============================] - 0s 49ms/step\n",
      "predicted text = sequences\n",
      "\n",
      "1/1 [==============================] - 0s 34ms/step\n",
      "predicted text = CT\n",
      "\n",
      "1/1 [==============================] - 0s 30ms/step\n",
      "predicted text = vertices\n",
      "\n",
      "1/1 [==============================] - 0s 34ms/step\n",
      "predicted text = Or\n",
      "\n",
      "1/1 [==============================] - 0s 37ms/step\n",
      "predicted text = pixels\n",
      "\n",
      "1/1 [==============================] - 0s 47ms/step\n",
      "predicted text = Opengl\n",
      "\n",
      "1/1 [==============================] - 0s 30ms/step\n",
      "predicted text = performs\n",
      "\n",
      "1/1 [==============================] - 0s 74ms/step\n",
      "predicted text = severa\n",
      "\n",
      "1/1 [==============================] - 0s 39ms/step\n",
      "predicted text = orocessing\n",
      "\n",
      "1/1 [==============================] - 0s 36ms/step\n",
      "predicted text = stepos\n",
      "\n",
      "1/1 [==============================] - 0s 26ms/step\n",
      "predicted text = O\n",
      "\n",
      "1/1 [==============================] - 0s 48ms/step\n",
      "predicted text = tois\n",
      "\n",
      "1/1 [==============================] - 0s 32ms/step\n",
      "predicted text = cat\n",
      "\n",
      "1/1 [==============================] - 0s 36ms/step\n",
      "predicted text = i\n",
      "\n",
      "1/1 [==============================] - 0s 30ms/step\n",
      "predicted text = convert\n",
      "\n",
      "1/1 [==============================] - 0s 59ms/step\n",
      "predicted text = Oa\n",
      "\n",
      "1/1 [==============================] - 0s 36ms/step\n",
      "predicted text = i\n",
      "\n",
      "1/1 [==============================] - 0s 34ms/step\n",
      "predicted text = pixels\n",
      "\n",
      "1/1 [==============================] - 0s 39ms/step\n",
      "predicted text = i\n",
      "\n",
      "1/1 [==============================] - 0s 32ms/step\n",
      "predicted text = form\n",
      "\n",
      "1/1 [==============================] - 0s 28ms/step\n",
      "predicted text = to\n",
      "\n",
      "1/1 [==============================] - 0s 41ms/step\n",
      "predicted text = final\n",
      "\n",
      "1/1 [==============================] - 0s 33ms/step\n",
      "predicted text = desired\n",
      "\n",
      "1/1 [==============================] - 0s 38ms/step\n",
      "predicted text = Image\n",
      "\n",
      "1/1 [==============================] - 0s 46ms/step\n",
      "predicted text = D\n",
      "\n",
      "1/1 [==============================] - 0s 33ms/step\n",
      "predicted text = to\n",
      "\n",
      "1/1 [==============================] - 0s 22ms/step\n",
      "predicted text = frame\n",
      "\n",
      "1/1 [==============================] - 0s 16ms/step\n",
      "predicted text = buffer\n",
      "\n"
     ]
    }
   ],
   "source": [
    "img_file = './images/img5.png'\n",
    "cropped_images = detect_and_crop_text(img_file)\n",
    "li = []\n",
    "for cropped_image in cropped_images:\n",
    "    li.append(displayResults(cropped_image))"
   ]
  },
  {
   "cell_type": "code",
   "execution_count": 22,
   "id": "ddee221b",
   "metadata": {},
   "outputs": [
    {
     "data": {
      "image/png": "[encoded data removed]",
      "text/plain": [
       "<Figure size 640x480 with 1 Axes>"
      ]
     },
     "metadata": {},
     "output_type": "display_data"
    },
    {
     "name": "stdout",
     "output_type": "stream",
     "text": [
      "Predicted text is : As S software interface for graphics hardware Opengls moain purpose Des i render CMO an Ihreeatlimensiona objects into Cy frame buffer These objects Sr described S sequences CT vertices Or pixels Opengl performs severa orocessing stepos O tois cat i convert Oa i pixels i form to final desired Image D to frame buffer "
     ]
    }
   ],
   "source": [
    "image = cv2.imread(img_file)\n",
    "plt.title(\"Input Image\")\n",
    "plt.imshow(image)\n",
    "# plt.axis('off')\n",
    "plt.show()\n",
    "\n",
    "\n",
    "\n",
    "\n",
    "print(\"Predicted text is :\",end=' ')\n",
    "for i in li:\n",
    "    print(''.join(i),end = ' ')"
   ]
  },
  {
   "cell_type": "code",
   "execution_count": null,
   "id": "0e707223",
   "metadata": {},
   "outputs": [],
   "source": []
  }
 ],
 "metadata": {
  "kernelspec": {
   "display_name": "Python 3 (ipykernel)",
   "language": "python",
   "name": "python3"
  },
  "language_info": {
   "codemirror_mode": {
    "name": "ipython",
    "version": 3
   },
   "file_extension": ".py",
   "mimetype": "text/x-python",
   "name": "python",
   "nbconvert_exporter": "python",
   "pygments_lexer": "ipython3",
   "version": "3.12.7"
  }
 },
 "nbformat": 4,
 "nbformat_minor": 5
}
